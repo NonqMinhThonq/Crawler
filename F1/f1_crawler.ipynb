{
 "cells": [
  {
   "cell_type": "code",
   "execution_count": 21,
   "metadata": {},
   "outputs": [
    {
     "name": "stdout",
     "output_type": "stream",
     "text": [
      "empty column\n",
      "Data successfully inserted into MongoDB.\n"
     ]
    }
   ],
   "source": [
    "import requests \n",
    "from pymongo import MongoClient\n",
    "from bs4 import BeautifulSoup\n",
    "import json\n",
    "\n",
    "# ket noi den mongodb\n",
    "client = MongoClient('mongodb+srv')  # Thay đổi URL nếu cần\n",
    "db = client['f1_Database33']  # Tạo hoặc kết nối đến database 'f1_database'\n",
    "collection = db['drivers']\n",
    "\n",
    "url = 'https://www.formula1.com/en/results/2024/drivers'\n",
    "response = requests.get(url)\n",
    "data = []\n",
    "if response.status_code == 200:\n",
    "    soup = BeautifulSoup(response.content, 'html.parser')  # added parser to avoid warnings\n",
    "    table = soup.find('table', class_='f1-table f1-table-with-data w-full')\n",
    "\n",
    "    # trich xuat cac dong trong bang\n",
    "    if table:\n",
    "        rows = table.find_all('tr')\n",
    "\n",
    "        for row_id, row in enumerate(rows):\n",
    "            columns = row.find_all(\"td\")\n",
    "            if columns:\n",
    "                position = columns[0].text.strip()\n",
    "                # lay cac the trong cot driver name\n",
    "                spans = columns[1].find_all('span')\n",
    "\n",
    "                if len(spans) >= 2:\n",
    "                    first_name = spans[0].text.strip()\n",
    "                    last_name = spans[1].text.strip()\n",
    "                    driver_name = first_name + \" \" + last_name\n",
    "\n",
    "                nationality = columns[2].text.strip()\n",
    "                car = columns[3].text.strip()\n",
    "                pts = columns[4].text.strip()\n",
    "\n",
    "                # Tạo một dictionary cho mỗi hàng\n",
    "                row_data = {\n",
    "                    'position': position,\n",
    "                    'driver_name': driver_name,\n",
    "                    'nationality': nationality,\n",
    "                    'car': car,\n",
    "                    'pts': pts\n",
    "                }\n",
    "\n",
    "                # Thêm dictionary vào danh sách\n",
    "                data.append(row_data)\n",
    "\n",
    "        # Write data to a JSON file\n",
    "        with open('F1_.json', 'w', encoding='utf-8') as json_file:\n",
    "            json.dump(data, json_file, ensure_ascii=False, indent=4)\n",
    "        \n",
    "        if data:\n",
    "            collection.insert_many(data)\n",
    "            print(\"Data successfully inserted into MongoDB.\")\n",
    "        else:\n",
    "            print('empty data')\n",
    "else:\n",
    "    print('Connection failed')\n"
   ]
  }
 ],
 "metadata": {
  "kernelspec": {
   "display_name": "Python 3",
   "language": "python",
   "name": "python3"
  },
  "language_info": {
   "codemirror_mode": {
    "name": "ipython",
    "version": 3
   },
   "file_extension": ".py",
   "mimetype": "text/x-python",
   "name": "python",
   "nbconvert_exporter": "python",
   "pygments_lexer": "ipython3",
   "version": "3.8.10"
  }
 },
 "nbformat": 4,
 "nbformat_minor": 2
}
